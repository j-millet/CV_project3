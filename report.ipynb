{
 "cells": [
  {
   "cell_type": "markdown",
   "metadata": {},
   "source": [
    "# Computer Vision - Project 3\n",
    "\n",
    "---\n",
    "\n",
    "Instance segmentation on **Cityscapes Dataset**.\n",
    "\n",
    "## Requirements\n",
    "\n",
    "Git with readme\n",
    "\n",
    "### Main requirements:\n",
    " - Preparation and presentation of a selected data set,\n",
    " - Preparation and presentation of the main functionality that should be based on neural networks,\n",
    " - Presentation of the report,\n",
    " - The final grade depends on the number of points scored for each element of the project\n",
    "\n",
    "### Dataset:\n",
    " - Minimum input size: **200x200px**\n",
    " - At least 1000 photos\n",
    "\n",
    "### Training:\n",
    " - Correctly selected loss function\n",
    " - Data split into train, validation and test\n",
    " - Metric (at least 2) (?)\n",
    "\n",
    "### Report:\n",
    " - description of the data set, with a few image examples\n",
    " - description of the problem\n",
    " - description of used architectures with diagram showing the layers; For large models containing blocks, the blocks and the connections between them can be shown separately.\n",
    " - model analysis: size in memory, number of parameters,  \n",
    " - description of the training and the required commands to run it\n",
    " - description of used metrics, loss, and evaluation\n",
    " - plots: training and validation loss, metrics\n",
    " - used hyperparameters along with an explanation of each why such value was chosen\n",
    " - comparison of models\n",
    " - list of libraries and tools used can be a requirements.txt file\n",
    " - a description of the runtime environment\n",
    " - training and inference time,\n",
    " - preparation of a bibliography - the bibliography should contain references to the data set (preferably the article in which the collection was presented) and all scientific works and studies, including websites with tips on the solution.\n",
    " - a table containing all the completed items with points.\n",
    " - link to Git\n",
    "\n",
    "## Goals table (WIP):\n",
    "\n",
    "| **Task** | **Points** | **Done?** |\n",
    "| --- | --- | --- |\n",
    "| Instance Segmentation | 3 | . |\n",
    "| Own architecture | 2 | . |\n",
    "| Additional architecture from the internet trained from scratch | 1 | . |\n",
    "| Hyperparameter tuning | 1 | . |\n",
    "| Data augmentation | 1 | . |\n",
    "| Cross-validation | 1 | . |\n",
    "| Testing a few optimizers | 1 | . | \n",
    "| Testing various loss functions | 1 | . |\n",
    "| Calculating intrinsic dimension | 1 | . |\n",
    "| Tensorboard | 1 | . |\n",
    "| PyTorch Lighning | 1 | . |\n",
    "| Docker | 1 | . |\n",
    "| Streamlit | 1 | . |\n",
    "| DVC | 1 | . |\n",
    "| **Total** | **17** | . |\n"
   ]
  },
  {
   "cell_type": "markdown",
   "metadata": {},
   "source": [
    "## Dataset"
   ]
  },
  {
   "cell_type": "code",
   "execution_count": null,
   "metadata": {
    "vscode": {
     "languageId": "plaintext"
    }
   },
   "outputs": [],
   "source": [
    "# Tu opis datasetu, kilka przykładów obrazków, data augmentations itp itd"
   ]
  },
  {
   "cell_type": "markdown",
   "metadata": {},
   "source": [
    "## Problem\n",
    "\n",
    "Opis problemu"
   ]
  },
  {
   "cell_type": "markdown",
   "metadata": {},
   "source": [
    "## Chosen model architectures and analysis"
   ]
  },
  {
   "cell_type": "code",
   "execution_count": null,
   "metadata": {
    "vscode": {
     "languageId": "plaintext"
    }
   },
   "outputs": [],
   "source": [
    "# Wyświetlenie kodu do wszystkich architektur, wyświetlenie ich rozmiaru w pamięci, może jakieś charty które on tam chciał ?"
   ]
  },
  {
   "cell_type": "markdown",
   "metadata": {},
   "source": [
    "## Used metrics, loss, hyperparameters and validation"
   ]
  },
  {
   "cell_type": "code",
   "execution_count": null,
   "metadata": {
    "vscode": {
     "languageId": "plaintext"
    }
   },
   "outputs": [],
   "source": [
    "# Opis metryk, losu itp"
   ]
  },
  {
   "cell_type": "markdown",
   "metadata": {},
   "source": [
    "## Model training"
   ]
  },
  {
   "cell_type": "code",
   "execution_count": null,
   "metadata": {
    "vscode": {
     "languageId": "plaintext"
    }
   },
   "outputs": [],
   "source": [
    "# Wykresiki porównawcze lossu pomiędzy architekturami, wyświetlenie predykcji różnych architektur dla tego samego przykładu z datasetu, inference time, training time"
   ]
  },
  {
   "cell_type": "markdown",
   "metadata": {},
   "source": [
    "## Runtime environment and instructions\n",
    "\n",
    "Tu w zasadzie chyba tylko opis wystarczy - docker image itp, komendy do uruchomienia itp"
   ]
  },
  {
   "cell_type": "markdown",
   "metadata": {},
   "source": [
    "## Bibliography\n",
    "\n",
    "itp itd itp itd itp itd itp itd itp itd itp itd itp itd itp itd itp itd itp itd itp itd itp itd itp itd itp itd itp itd itp itd itp itd itp itd itp itd itp itd itp itd itp itd itp itd itp itd itp itd itp itd itp itd itp itd itp itd itp itd itp itd itp itd itp itd itp itd itp itd itp itd itp itd itp itd itp itd itp itd itp itd itp itd itp itd itp itd itp itd itp itd itp itd itp itd "
   ]
  }
 ],
 "metadata": {
  "language_info": {
   "name": "python"
  }
 },
 "nbformat": 4,
 "nbformat_minor": 2
}
